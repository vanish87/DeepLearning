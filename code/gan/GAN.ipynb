{
 "cells": [
  {
   "cell_type": "code",
   "execution_count": 1,
   "metadata": {
    "colab": {
     "base_uri": "https://localhost:8080/",
     "height": 35
    },
    "colab_type": "code",
    "id": "zCFUfhjbwb70",
    "outputId": "3ea26136-f6ce-4483-f732-603e6c1ccaa2"
   },
   "outputs": [
    {
     "data": {
      "application/vnd.google.colaboratory.intrinsic+json": {
       "type": "string"
      },
      "text/plain": [
       "'2.3.0'"
      ]
     },
     "execution_count": 1,
     "metadata": {
      "tags": []
     },
     "output_type": "execute_result"
    }
   ],
   "source": [
    "import tensorflow as tf\n",
    "tf.__version__"
   ]
  },
  {
   "cell_type": "code",
   "execution_count": 2,
   "metadata": {
    "colab": {},
    "colab_type": "code",
    "id": "C5Z8C4UUwb79"
   },
   "outputs": [],
   "source": [
    "import keras"
   ]
  },
  {
   "cell_type": "code",
   "execution_count": 3,
   "metadata": {
    "colab": {},
    "colab_type": "code",
    "id": "Vu1nwwUUwb8C"
   },
   "outputs": [],
   "source": [
    "from keras.models import Sequential\n",
    "from keras.layers import Dense, LeakyReLU, BatchNormalization, Reshape, Input, Conv2D, MaxPool2D , Flatten\n",
    "from keras.optimizers import SGD\n",
    "from tensorflow.keras.optimizers import Adam\n",
    "from tensorflow.keras.utils import plot_model\n",
    "\n",
    "import numpy as np\n",
    "import matplotlib.pyplot as plt\n",
    "import imageio\n",
    "import glob"
   ]
  },
  {
   "cell_type": "code",
   "execution_count": 4,
   "metadata": {
    "colab": {},
    "colab_type": "code",
    "id": "N6LqdONxwb8I"
   },
   "outputs": [],
   "source": [
    "from keras.datasets import mnist\n"
   ]
  },
  {
   "cell_type": "code",
   "execution_count": 5,
   "metadata": {
    "colab": {},
    "colab_type": "code",
    "id": "7JpExdgFwb8O"
   },
   "outputs": [],
   "source": [
    "def GANGenerator():\n",
    "    model = Sequential()\n",
    "    \n",
    "    inputDim = 100\n",
    "    outputDim = (28,28,1)\n",
    "    \n",
    "    model.add(Dense(256, input_dim=inputDim))\n",
    "    model.add(LeakyReLU(alpha=0.2))\n",
    "    model.add(BatchNormalization(momentum=0.8))\n",
    "    \n",
    "    model.add(Dense(512))\n",
    "    model.add(LeakyReLU(alpha=0.2))\n",
    "    model.add(BatchNormalization(momentum=0.8))\n",
    "        \n",
    "    model.add(Dense(1024))\n",
    "    model.add(LeakyReLU(alpha=0.2))\n",
    "    model.add(BatchNormalization(momentum=0.8))\n",
    "    \n",
    "    model.add(Dense(np.prod(outputDim), activation='tanh'))    \n",
    "    model.add(Reshape(outputDim))\n",
    "    \n",
    "    #model.summary()\n",
    "    \n",
    "    #noise = Input()\n",
    "    \n",
    "    return model"
   ]
  },
  {
   "cell_type": "code",
   "execution_count": 6,
   "metadata": {
    "colab": {},
    "colab_type": "code",
    "id": "KykBUYq5wb8S"
   },
   "outputs": [],
   "source": [
    "def GANDiscriminator():\n",
    "    model = Sequential()\n",
    "        \n",
    "    imgDim = (28,28,1)\n",
    "    \n",
    "    model.add(Flatten(input_shape=imgDim))\n",
    "    model.add(Dense(512))\n",
    "    model.add(LeakyReLU(alpha=0.2))\n",
    "    \n",
    "    model.add(Dense(256))\n",
    "    model.add(LeakyReLU(alpha=0.2))\n",
    "    \n",
    "    model.add(Dense(1, activation='sigmoid'))    \n",
    "    \n",
    "    #model.summary()\n",
    "    \n",
    "    return model"
   ]
  },
  {
   "cell_type": "code",
   "execution_count": 7,
   "metadata": {
    "colab": {},
    "colab_type": "code",
    "id": "yoW4Jeoiwb8Y"
   },
   "outputs": [],
   "source": [
    "def GANcombined(G,D):\n",
    "    model = Sequential()\n",
    "    \n",
    "    model.add(G)\n",
    "    \n",
    "    D.trainable = False\n",
    "    model.add(D)\n",
    "    \n",
    "    #model.summary()\n",
    "    \n",
    "    return model"
   ]
  },
  {
   "cell_type": "code",
   "execution_count": 8,
   "metadata": {
    "colab": {},
    "colab_type": "code",
    "id": "_buMK5W2wb8e"
   },
   "outputs": [],
   "source": [
    "def sample_images(epoch, inputDim, gen):\n",
    "    r, c = 5, 5\n",
    "    noise = np.random.normal(0, 1, (r * c, inputDim))\n",
    "    gen_imgs = gen.predict(noise)\n",
    "\n",
    "    # Rescale images 0 - 1\n",
    "    gen_imgs = 0.5 * gen_imgs + 0.5\n",
    "\n",
    "    fig, axs = plt.subplots(r, c)\n",
    "    cnt = 0\n",
    "    for i in range(r):\n",
    "        for j in range(c):\n",
    "            axs[i,j].imshow(gen_imgs[cnt, :,:,0], cmap='gray')\n",
    "            axs[i,j].axis('off')\n",
    "            cnt += 1\n",
    "    fig.savefig(\"images/%d.png\" % epoch)\n",
    "    plt.close()\n",
    "    \n",
    "def save_gif():\n",
    "    anim_file = 'gan.gif'\n",
    "\n",
    "    with imageio.get_writer(anim_file, mode='I') as writer:\n",
    "      filenames = glob.glob('images/*.png')\n",
    "      filenames = sorted(filenames)\n",
    "      last = -1\n",
    "      for i,filename in enumerate(filenames):\n",
    "        frame = 2*(i**0.5)\n",
    "        if round(frame) > round(last):\n",
    "          last = frame\n",
    "        else:\n",
    "          continue\n",
    "        image = imageio.imread(filename)\n",
    "        writer.append_data(image)\n",
    "      image = imageio.imread(filename)\n",
    "      writer.append_data(image)"
   ]
  },
  {
   "cell_type": "code",
   "execution_count": 9,
   "metadata": {
    "colab": {},
    "colab_type": "code",
    "id": "tBmNez92wb8h"
   },
   "outputs": [],
   "source": [
    "ad = Adam(0.0002, 0.5)\n",
    "\n",
    "gen = GANGenerator()\n",
    "#gen.compile(optimizer=ad, loss='binary_crossentropy', metrics=['accuracy'])\n",
    "\n",
    "dis = GANDiscriminator();\n",
    "dis.compile(optimizer=ad, loss='binary_crossentropy', metrics=['accuracy'])\n",
    "\n",
    "combined = GANcombined(gen, dis)\n",
    "combined.compile(optimizer=ad, loss='binary_crossentropy', metrics=['accuracy'])"
   ]
  },
  {
   "cell_type": "code",
   "execution_count": 10,
   "metadata": {
    "colab": {
     "base_uri": "https://localhost:8080/",
     "height": 312
    },
    "colab_type": "code",
    "id": "oopFxuGVwb8l",
    "outputId": "55cdbfb6-f336-466e-91b0-e8b960c9a87d"
   },
   "outputs": [
    {
     "data": {
      "image/png": "[encoded data removed]",
      "text/plain": [
       "<IPython.core.display.Image object>"
      ]
     },
     "execution_count": 10,
     "metadata": {
      "tags": []
     },
     "output_type": "execute_result"
    }
   ],
   "source": [
    "plot_model(gen, to_file='gan_gen.png', show_shapes=True)\n",
    "plot_model(dis, to_file='gan_dis.png', show_shapes=True)\n",
    "plot_model(combined, to_file='gan_combined.png', show_shapes=True)"
   ]
  },
  {
   "cell_type": "code",
   "execution_count": 11,
   "metadata": {
    "colab": {},
    "colab_type": "code",
    "id": "SMYlu0agwb8p"
   },
   "outputs": [],
   "source": [
    "(X_train, y_train), (X_test, y_test) = mnist.load_data()"
   ]
  },
  {
   "cell_type": "code",
   "execution_count": null,
   "metadata": {
    "colab": {},
    "colab_type": "code",
    "id": "8pEGqz09wb8s"
   },
   "outputs": [],
   "source": [
    "\n",
    "# Rescale -1 to 1\n",
    "X_train = X_train / 127.5 - 1.\n",
    "X_train = np.expand_dims(X_train, axis=3)\n",
    "\n",
    "batch_size = 32\n",
    "inputDim = 100\n",
    "sample_interval = 100\n",
    "\n",
    "\n",
    "# Adversarial ground truths\n",
    "valid = np.ones((batch_size, 1))\n",
    "fake = np.zeros((batch_size, 1))\n",
    "\n",
    "for epoch in range(30000):   \n",
    "\n",
    "        # Select a random batch of images\n",
    "        idx = np.random.randint(0, X_train.shape[0], batch_size)\n",
    "        imgs = X_train[idx]\n",
    "\n",
    "        noise = np.random.normal(0, 1, (batch_size, inputDim))\n",
    "\n",
    "        # Generate a batch of new images\n",
    "        gen_imgs = gen.predict(noise)\n",
    "\n",
    "        # Train the discriminator\n",
    "        d_loss_real = dis.train_on_batch(imgs, valid)\n",
    "        d_loss_fake = dis.train_on_batch(gen_imgs, fake)\n",
    "        d_loss = 0.5 * np.add(d_loss_real, d_loss_fake)\n",
    "\n",
    "        # ---------------------\n",
    "        #  Train Generator\n",
    "        # ---------------------\n",
    "\n",
    "        noise = np.random.normal(0, 1, (batch_size, inputDim))\n",
    "\n",
    "        # Train the generator (to have the discriminator label samples as valid)\n",
    "        g_loss = combined.train_on_batch(noise, valid)\n",
    "\n",
    "        # Plot the progress\n",
    "        print (\"%d [D loss: %f, acc.: %.2f%%] [G loss: %f]\" % (epoch, d_loss[0], 100*d_loss[1], g_loss[0]))\n",
    "\n",
    "        # If at save interval => save generated image samples\n",
    "        if epoch % sample_interval == 0:\n",
    "            sample_images(epoch, inputDim, gen)"
   ]
  },
  {
   "cell_type": "code",
   "execution_count": 13,
   "metadata": {
    "colab": {},
    "colab_type": "code",
    "id": "NIUh66gbwb8v"
   },
   "outputs": [],
   "source": [
    "save_gif()"
   ]
  }
 ],
 "metadata": {
  "colab": {
   "name": "GAN.ipynb",
   "provenance": []
  },
  "kernelspec": {
   "display_name": "Python 3",
   "language": "python",
   "name": "python3"
  },
  "language_info": {
   "codemirror_mode": {
    "name": "ipython",
    "version": 3
   },
   "file_extension": ".py",
   "mimetype": "text/x-python",
   "name": "python",
   "nbconvert_exporter": "python",
   "pygments_lexer": "ipython3",
   "version": "3.7.7"
  }
 },
 "nbformat": 4,
 "nbformat_minor": 1
}
